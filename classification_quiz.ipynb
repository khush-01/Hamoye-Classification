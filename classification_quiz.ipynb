{
  "nbformat": 4,
  "nbformat_minor": 0,
  "metadata": {
    "colab": {
      "name": "classification_quiz.ipynb",
      "provenance": [],
      "collapsed_sections": []
    },
    "kernelspec": {
      "name": "python3",
      "display_name": "Python 3"
    },
    "language_info": {
      "name": "python"
    }
  },
  "cells": [
    {
      "cell_type": "markdown",
      "metadata": {
        "id": "n_8VKK35FChO"
      },
      "source": [
        "# Importing libraries and data"
      ]
    },
    {
      "cell_type": "code",
      "metadata": {
        "id": "zLxb-oxkFXNO"
      },
      "source": [
        "import numpy as np\n",
        "import pandas as pd\n",
        "import matplotlib.pyplot as plt\n",
        "import seaborn as sns\n",
        "\n",
        "from sklearn.preprocessing import StandardScaler\n",
        "from sklearn.model_selection import train_test_split\n",
        "\n",
        "from sklearn.ensemble import ExtraTreesClassifier, RandomForestClassifier\n",
        "from xgboost import XGBClassifier\n",
        "from lightgbm import LGBMClassifier\n",
        "\n",
        "from sklearn.metrics import accuracy_score, classification_report, confusion_matrix, recall_score, precision_score, f1_score, roc_curve, roc_auc_score\n",
        "from sklearn.model_selection import cross_val_score"
      ],
      "execution_count": 1,
      "outputs": []
    },
    {
      "cell_type": "code",
      "metadata": {
        "colab": {
          "base_uri": "https://localhost:8080/",
          "height": 204
        },
        "id": "FQuyLiYXFnkV",
        "outputId": "7b9cc393-dc66-4b4b-cbd0-d64871129317"
      },
      "source": [
        "data_url ='https://archive.ics.uci.edu/ml/machine-learning-databases/00471/Data_for_UCI_named.csv'\n",
        "dataframe = pd.read_csv(data_url)\n",
        "dataframe.head()"
      ],
      "execution_count": 2,
      "outputs": [
        {
          "output_type": "execute_result",
          "data": {
            "text/html": [
              "<div>\n",
              "<style scoped>\n",
              "    .dataframe tbody tr th:only-of-type {\n",
              "        vertical-align: middle;\n",
              "    }\n",
              "\n",
              "    .dataframe tbody tr th {\n",
              "        vertical-align: top;\n",
              "    }\n",
              "\n",
              "    .dataframe thead th {\n",
              "        text-align: right;\n",
              "    }\n",
              "</style>\n",
              "<table border=\"1\" class=\"dataframe\">\n",
              "  <thead>\n",
              "    <tr style=\"text-align: right;\">\n",
              "      <th></th>\n",
              "      <th>tau1</th>\n",
              "      <th>tau2</th>\n",
              "      <th>tau3</th>\n",
              "      <th>tau4</th>\n",
              "      <th>p1</th>\n",
              "      <th>p2</th>\n",
              "      <th>p3</th>\n",
              "      <th>p4</th>\n",
              "      <th>g1</th>\n",
              "      <th>g2</th>\n",
              "      <th>g3</th>\n",
              "      <th>g4</th>\n",
              "      <th>stab</th>\n",
              "      <th>stabf</th>\n",
              "    </tr>\n",
              "  </thead>\n",
              "  <tbody>\n",
              "    <tr>\n",
              "      <th>0</th>\n",
              "      <td>2.959060</td>\n",
              "      <td>3.079885</td>\n",
              "      <td>8.381025</td>\n",
              "      <td>9.780754</td>\n",
              "      <td>3.763085</td>\n",
              "      <td>-0.782604</td>\n",
              "      <td>-1.257395</td>\n",
              "      <td>-1.723086</td>\n",
              "      <td>0.650456</td>\n",
              "      <td>0.859578</td>\n",
              "      <td>0.887445</td>\n",
              "      <td>0.958034</td>\n",
              "      <td>0.055347</td>\n",
              "      <td>unstable</td>\n",
              "    </tr>\n",
              "    <tr>\n",
              "      <th>1</th>\n",
              "      <td>9.304097</td>\n",
              "      <td>4.902524</td>\n",
              "      <td>3.047541</td>\n",
              "      <td>1.369357</td>\n",
              "      <td>5.067812</td>\n",
              "      <td>-1.940058</td>\n",
              "      <td>-1.872742</td>\n",
              "      <td>-1.255012</td>\n",
              "      <td>0.413441</td>\n",
              "      <td>0.862414</td>\n",
              "      <td>0.562139</td>\n",
              "      <td>0.781760</td>\n",
              "      <td>-0.005957</td>\n",
              "      <td>stable</td>\n",
              "    </tr>\n",
              "    <tr>\n",
              "      <th>2</th>\n",
              "      <td>8.971707</td>\n",
              "      <td>8.848428</td>\n",
              "      <td>3.046479</td>\n",
              "      <td>1.214518</td>\n",
              "      <td>3.405158</td>\n",
              "      <td>-1.207456</td>\n",
              "      <td>-1.277210</td>\n",
              "      <td>-0.920492</td>\n",
              "      <td>0.163041</td>\n",
              "      <td>0.766689</td>\n",
              "      <td>0.839444</td>\n",
              "      <td>0.109853</td>\n",
              "      <td>0.003471</td>\n",
              "      <td>unstable</td>\n",
              "    </tr>\n",
              "    <tr>\n",
              "      <th>3</th>\n",
              "      <td>0.716415</td>\n",
              "      <td>7.669600</td>\n",
              "      <td>4.486641</td>\n",
              "      <td>2.340563</td>\n",
              "      <td>3.963791</td>\n",
              "      <td>-1.027473</td>\n",
              "      <td>-1.938944</td>\n",
              "      <td>-0.997374</td>\n",
              "      <td>0.446209</td>\n",
              "      <td>0.976744</td>\n",
              "      <td>0.929381</td>\n",
              "      <td>0.362718</td>\n",
              "      <td>0.028871</td>\n",
              "      <td>unstable</td>\n",
              "    </tr>\n",
              "    <tr>\n",
              "      <th>4</th>\n",
              "      <td>3.134112</td>\n",
              "      <td>7.608772</td>\n",
              "      <td>4.943759</td>\n",
              "      <td>9.857573</td>\n",
              "      <td>3.525811</td>\n",
              "      <td>-1.125531</td>\n",
              "      <td>-1.845975</td>\n",
              "      <td>-0.554305</td>\n",
              "      <td>0.797110</td>\n",
              "      <td>0.455450</td>\n",
              "      <td>0.656947</td>\n",
              "      <td>0.820923</td>\n",
              "      <td>0.049860</td>\n",
              "      <td>unstable</td>\n",
              "    </tr>\n",
              "  </tbody>\n",
              "</table>\n",
              "</div>"
            ],
            "text/plain": [
              "       tau1      tau2      tau3  ...        g4      stab     stabf\n",
              "0  2.959060  3.079885  8.381025  ...  0.958034  0.055347  unstable\n",
              "1  9.304097  4.902524  3.047541  ...  0.781760 -0.005957    stable\n",
              "2  8.971707  8.848428  3.046479  ...  0.109853  0.003471  unstable\n",
              "3  0.716415  7.669600  4.486641  ...  0.362718  0.028871  unstable\n",
              "4  3.134112  7.608772  4.943759  ...  0.820923  0.049860  unstable\n",
              "\n",
              "[5 rows x 14 columns]"
            ]
          },
          "metadata": {
            "tags": []
          },
          "execution_count": 2
        }
      ]
    },
    {
      "cell_type": "markdown",
      "metadata": {
        "id": "4xZ3v-t3P2w4"
      },
      "source": [
        "**Data Wrangling and Spliting**"
      ]
    },
    {
      "cell_type": "code",
      "metadata": {
        "id": "EwxLt79DGLzv"
      },
      "source": [
        "features = dataframe.drop(['stab', 'stabf'], axis = 1)\n",
        "target = dataframe['stabf']\n",
        "\n",
        "x_train, x_test, y_train, y_test = train_test_split(features, target, test_size=.2, random_state=1)"
      ],
      "execution_count": 3,
      "outputs": []
    },
    {
      "cell_type": "markdown",
      "metadata": {
        "id": "P2eDoHYVP-6I"
      },
      "source": [
        "**Feature Scaling**"
      ]
    },
    {
      "cell_type": "code",
      "metadata": {
        "id": "tNdXmYxeICC6"
      },
      "source": [
        "sc = StandardScaler()\n",
        "\n",
        "x_train = pd.DataFrame(sc.fit_transform(x_train), columns=x_train.columns)\n",
        "x_test = pd.DataFrame(sc.transform(x_test), columns=x_test.columns)"
      ],
      "execution_count": 4,
      "outputs": []
    },
    {
      "cell_type": "markdown",
      "metadata": {
        "id": "PjQwJzVQTypW"
      },
      "source": [
        "# Quiz Questions"
      ]
    },
    {
      "cell_type": "code",
      "metadata": {
        "colab": {
          "base_uri": "https://localhost:8080/"
        },
        "id": "VHNBHbhHIIHX",
        "outputId": "f890590f-14d4-422a-fdd3-464fd63adeb7"
      },
      "source": [
        "print('Question 1\\n')\n",
        "\n",
        "precision = 355/(355 + 1480)\n",
        "recall = 355/(355 + 45)\n",
        "\n",
        "f1_score = 2*(precision*recall)/(precision + recall)\n",
        "\n",
        "print('F1 score =', round(f1_score, 4))"
      ],
      "execution_count": 5,
      "outputs": [
        {
          "output_type": "stream",
          "text": [
            "Question 1\n",
            "\n",
            "F1 score = 0.3177\n"
          ],
          "name": "stdout"
        }
      ]
    },
    {
      "cell_type": "code",
      "metadata": {
        "colab": {
          "base_uri": "https://localhost:8080/"
        },
        "id": "Wz8lzSMUJY5D",
        "outputId": "e59c26a3-c294-45c0-b0fd-3714de32d7cc"
      },
      "source": [
        "print('Question 4\\n')\n",
        "\n",
        "# Option A\n",
        "print(f'Recall = {82 / (82 + 18)}')\n",
        "print(f'False Positive Rate = {2 / (2 + 98)}')\n",
        "print(f'Costs = {5 * 2 + 18}\\n')\n",
        "\n",
        "# Option B\n",
        "print(f'Recall = {90 / (90 + 10)}')\n",
        "print(f'False Positive Rate = {4 / (4 + 96)}')\n",
        "print(f'Costs = {5 * 4 + 10} \\n')\n",
        "\n",
        "# Option C\n",
        "print(f'Recall for = {79 / (79 + 21)}')\n",
        "print(f'False Positive Rate = {round(1 / (1 + 91), 2)}')\n",
        "print(f'Costs = {5 * 1 + 21} \\n')\n",
        "\n",
        "# Option D\n",
        "print(f'Recall = {78 / (78 + 22)}')\n",
        "print(f'False Positive Rate = {9 / (9 + 91)}')\n",
        "print(f'Costs = {5 * 9 + 22} \\n')"
      ],
      "execution_count": 6,
      "outputs": [
        {
          "output_type": "stream",
          "text": [
            "Question 4\n",
            "\n",
            "Recall = 0.82\n",
            "False Positive Rate = 0.02\n",
            "Costs = 28\n",
            "\n",
            "Recall = 0.9\n",
            "False Positive Rate = 0.04\n",
            "Costs = 30 \n",
            "\n",
            "Recall for = 0.79\n",
            "False Positive Rate = 0.01\n",
            "Costs = 26 \n",
            "\n",
            "Recall = 0.78\n",
            "False Positive Rate = 0.09\n",
            "Costs = 67 \n",
            "\n"
          ],
          "name": "stdout"
        }
      ]
    },
    {
      "cell_type": "code",
      "metadata": {
        "colab": {
          "base_uri": "https://localhost:8080/"
        },
        "id": "ja1w4OPZJm3o",
        "outputId": "9f34509a-0810-41d1-87e6-396837fcb459"
      },
      "source": [
        "print('Question 14\\n')\n",
        "\n",
        "forest_classifier = RandomForestClassifier(random_state=1)\n",
        "forest_classifier.fit(x_train, y_train)\n",
        "\n",
        "forest_predicted = forest_classifier.predict(x_test)\n",
        "\n",
        "accuracy_value = round(accuracy_score(y_test, forest_predicted), 4)\n",
        "print(f'Accuracy score = {accuracy_value}')"
      ],
      "execution_count": 7,
      "outputs": [
        {
          "output_type": "stream",
          "text": [
            "Question 14\n",
            "\n",
            "Accuracy score = 0.929\n"
          ],
          "name": "stdout"
        }
      ]
    },
    {
      "cell_type": "code",
      "metadata": {
        "colab": {
          "base_uri": "https://localhost:8080/"
        },
        "id": "-IKRD3x3K0qV",
        "outputId": "88405419-a9ec-4ec1-beaa-9b6a3af86cb2"
      },
      "source": [
        "print('Question 15\\n')\n",
        "\n",
        "xgb_classifier = XGBClassifier(random_state=1)\n",
        "xgb_classifier.fit(x_train, y_train)\n",
        "\n",
        "xgb_predicted = xgb_classifier.predict(x_test)\n",
        "\n",
        "accuracy_value = round(accuracy_score(y_test, xgb_predicted), 4)\n",
        "print(f'Accuracy score = {accuracy_value}')"
      ],
      "execution_count": 8,
      "outputs": [
        {
          "output_type": "stream",
          "text": [
            "Question 15\n",
            "\n",
            "Accuracy score = 0.9195\n"
          ],
          "name": "stdout"
        }
      ]
    },
    {
      "cell_type": "code",
      "metadata": {
        "colab": {
          "base_uri": "https://localhost:8080/"
        },
        "id": "kdGT5gfvLCHc",
        "outputId": "944d564a-405d-4772-8dbe-941db42dd435"
      },
      "source": [
        "print('Question 16\\n')\n",
        "\n",
        "lgbm_classifier = LGBMClassifier(random_state=1)\n",
        "lgbm_classifier.fit(x_train, y_train)\n",
        "\n",
        "lgbm_predicted = lgbm_classifier.predict(x_test)\n",
        "\n",
        "accuracy_value = round(accuracy_score(y_test, lgbm_predicted), 4)\n",
        "print(f'Accuracy score = {accuracy_value}')"
      ],
      "execution_count": 9,
      "outputs": [
        {
          "output_type": "stream",
          "text": [
            "Question 16\n",
            "\n",
            "Accuracy score = 0.9375\n"
          ],
          "name": "stdout"
        }
      ]
    },
    {
      "cell_type": "code",
      "metadata": {
        "colab": {
          "base_uri": "https://localhost:8080/"
        },
        "id": "7jgahrb8LI2R",
        "outputId": "ef684a18-3f91-4159-f20f-042056b014a6"
      },
      "source": [
        "print('Question 17\\n')\n",
        "\n",
        "from sklearn.model_selection import RandomizedSearchCV\n",
        "\n",
        "n_estimators = [50, 100, 300, 500, 1000]\n",
        "min_samples_split = [2, 3, 5, 7, 9]\n",
        "min_samples_leaf = [1, 2, 4, 6, 8]\n",
        "max_features = ['auto', 'sqrt', 'log2', None] \n",
        "hyperparameter_grid = {'n_estimators': n_estimators,\n",
        "                       'min_samples_leaf': min_samples_leaf,\n",
        "                       'min_samples_split': min_samples_split,\n",
        "                       'max_features': max_features}\n",
        "\n",
        "ext_classifier = ExtraTreesClassifier(random_state=1)\n",
        "randomised_grid_search = RandomizedSearchCV(ext_classifier, param_distributions= hyperparameter_grid,\n",
        "                                scoring='accuracy',\n",
        "                                n_iter=10,\n",
        "                                cv=5,\n",
        "                                n_jobs=-1,\n",
        "                                verbose=1, \n",
        "                                random_state=1)\n",
        "\n",
        "randomised_grid_search.fit(x_train, y_train)"
      ],
      "execution_count": 10,
      "outputs": [
        {
          "output_type": "stream",
          "text": [
            "Question 17\n",
            "\n",
            "Fitting 5 folds for each of 10 candidates, totalling 50 fits\n"
          ],
          "name": "stdout"
        },
        {
          "output_type": "stream",
          "text": [
            "[Parallel(n_jobs=-1)]: Using backend LokyBackend with 2 concurrent workers.\n",
            "[Parallel(n_jobs=-1)]: Done  46 tasks      | elapsed:  1.5min\n",
            "[Parallel(n_jobs=-1)]: Done  50 out of  50 | elapsed:  1.5min finished\n"
          ],
          "name": "stderr"
        },
        {
          "output_type": "execute_result",
          "data": {
            "text/plain": [
              "RandomizedSearchCV(cv=5, error_score=nan,\n",
              "                   estimator=ExtraTreesClassifier(bootstrap=False,\n",
              "                                                  ccp_alpha=0.0,\n",
              "                                                  class_weight=None,\n",
              "                                                  criterion='gini',\n",
              "                                                  max_depth=None,\n",
              "                                                  max_features='auto',\n",
              "                                                  max_leaf_nodes=None,\n",
              "                                                  max_samples=None,\n",
              "                                                  min_impurity_decrease=0.0,\n",
              "                                                  min_impurity_split=None,\n",
              "                                                  min_samples_leaf=1,\n",
              "                                                  min_samples_split=2,\n",
              "                                                  min_weight_fraction_leaf=0.0,\n",
              "                                                  n_estimators=100, n_jobs=...\n",
              "                                                  oob_score=False,\n",
              "                                                  random_state=1, verbose=0,\n",
              "                                                  warm_start=False),\n",
              "                   iid='deprecated', n_iter=10, n_jobs=-1,\n",
              "                   param_distributions={'max_features': ['auto', 'sqrt', 'log2',\n",
              "                                                         None],\n",
              "                                        'min_samples_leaf': [1, 2, 4, 6, 8],\n",
              "                                        'min_samples_split': [2, 3, 5, 7, 9],\n",
              "                                        'n_estimators': [50, 100, 300, 500,\n",
              "                                                         1000]},\n",
              "                   pre_dispatch='2*n_jobs', random_state=1, refit=True,\n",
              "                   return_train_score=False, scoring='accuracy', verbose=1)"
            ]
          },
          "metadata": {
            "tags": []
          },
          "execution_count": 10
        }
      ]
    },
    {
      "cell_type": "code",
      "metadata": {
        "colab": {
          "base_uri": "https://localhost:8080/"
        },
        "id": "NeCdwhMtLRbq",
        "outputId": "d33045d1-3ee1-42f0-ab48-807109a104e0"
      },
      "source": [
        "randomised_grid_search.best_params_"
      ],
      "execution_count": 11,
      "outputs": [
        {
          "output_type": "execute_result",
          "data": {
            "text/plain": [
              "{'max_features': None,\n",
              " 'min_samples_leaf': 8,\n",
              " 'min_samples_split': 2,\n",
              " 'n_estimators': 1000}"
            ]
          },
          "metadata": {
            "tags": []
          },
          "execution_count": 11
        }
      ]
    },
    {
      "cell_type": "code",
      "metadata": {
        "colab": {
          "base_uri": "https://localhost:8080/"
        },
        "id": "3YqlTfmxLcYO",
        "outputId": "f5813ac7-df7e-48cd-bb5e-554a2abfabfe"
      },
      "source": [
        "print('Question 18\\n')\n",
        "\n",
        "ext_classifier.fit(x_train, y_train)\n",
        "old_accuracy = round(accuracy_score(y_test, ext_classifier.predict(x_test)), 4)\n",
        "print(f'Old accuracy score = {old_accuracy}')\n",
        "\n",
        "new_model = randomised_grid_search.best_estimator_\n",
        "new_model.fit(x_train, y_train)\n",
        "\n",
        "new_predicted = new_model.predict(x_test)\n",
        "print(f'New Accuracy score = {round(accuracy_score(y_test, new_predicted), 4)}')"
      ],
      "execution_count": 12,
      "outputs": [
        {
          "output_type": "stream",
          "text": [
            "Question 18\n",
            "\n",
            "Old accuracy score = 0.928\n",
            "New Accuracy score = 0.927\n"
          ],
          "name": "stdout"
        }
      ]
    },
    {
      "cell_type": "code",
      "metadata": {
        "colab": {
          "base_uri": "https://localhost:8080/",
          "height": 546
        },
        "id": "ppI2e41vLh9a",
        "outputId": "6466eedb-c62f-48b7-a3d2-1769517505c0"
      },
      "source": [
        "print('Question 20\\n')\n",
        "\n",
        "feature_importances = new_model.feature_importances_\n",
        "indices = np.argsort(feature_importances)[::-1]\n",
        "names = [x_train.columns[i] for i in indices]\n",
        "\n",
        "plt.figure(figsize=(10, 8))\n",
        "plt.title(\"Feature Importance\")\n",
        "plt.bar(range(x_train.shape[1]), feature_importances[indices])\n",
        "plt.xticks(range(x_train.shape[1]), names, rotation=90)\n",
        "\n",
        "plt.show()"
      ],
      "execution_count": 13,
      "outputs": [
        {
          "output_type": "stream",
          "text": [
            "Question 20\n",
            "\n"
          ],
          "name": "stdout"
        },
        {
          "output_type": "display_data",
          "data": {
            "image/png": "[encoded data removed]",
            "text/plain": [
              "<Figure size 720x576 with 1 Axes>"
            ]
          },
          "metadata": {
            "tags": [],
            "needs_background": "light"
          }
        }
      ]
    }
  ]
}